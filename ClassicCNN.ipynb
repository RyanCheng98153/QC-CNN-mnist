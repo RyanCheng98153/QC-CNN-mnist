{
  "nbformat": 4,
  "nbformat_minor": 0,
  "metadata": {
    "colab": {
      "provenance": [],
      "gpuType": "T4"
    },
    "kernelspec": {
      "name": "python3",
      "display_name": "Python 3"
    },
    "language_info": {
      "name": "python"
    },
    "accelerator": "GPU"
  },
  "cells": [
    {
      "cell_type": "markdown",
      "source": [
        "# Environment Setup"
      ],
      "metadata": {
        "id": "QaWDSA1AQnq_"
      }
    },
    {
      "cell_type": "code",
      "source": [
        "import torch\n",
        "import torch.nn as nn\n",
        "import torch.optim as optim\n",
        "import torchvision\n",
        "import torchvision.transforms as transforms\n",
        "import torch.nn.functional as F"
      ],
      "metadata": {
        "id": "FTOd8njqQqcK"
      },
      "execution_count": 10,
      "outputs": []
    },
    {
      "cell_type": "code",
      "source": [
        "# Check if GPU is available\n",
        "device = torch.device(\"cuda\" if torch.cuda.is_available() else \"cpu\")"
      ],
      "metadata": {
        "id": "pE5O6dDyQrxh"
      },
      "execution_count": 2,
      "outputs": []
    },
    {
      "cell_type": "code",
      "execution_count": 3,
      "metadata": {
        "colab": {
          "base_uri": "https://localhost:8080/"
        },
        "id": "jG0xlpWzPA1i",
        "outputId": "60e6e692-8a35-4040-fa7f-58716fc72364"
      },
      "outputs": [
        {
          "output_type": "stream",
          "name": "stdout",
          "text": [
            "Downloading http://yann.lecun.com/exdb/mnist/train-images-idx3-ubyte.gz\n",
            "Failed to download (trying next):\n",
            "HTTP Error 403: Forbidden\n",
            "\n",
            "Downloading https://ossci-datasets.s3.amazonaws.com/mnist/train-images-idx3-ubyte.gz\n",
            "Downloading https://ossci-datasets.s3.amazonaws.com/mnist/train-images-idx3-ubyte.gz to ./data/MNIST/raw/train-images-idx3-ubyte.gz\n"
          ]
        },
        {
          "output_type": "stream",
          "name": "stderr",
          "text": [
            "100%|██████████| 9912422/9912422 [00:02<00:00, 4905921.35it/s]\n"
          ]
        },
        {
          "output_type": "stream",
          "name": "stdout",
          "text": [
            "Extracting ./data/MNIST/raw/train-images-idx3-ubyte.gz to ./data/MNIST/raw\n",
            "\n",
            "Downloading http://yann.lecun.com/exdb/mnist/train-labels-idx1-ubyte.gz\n",
            "Failed to download (trying next):\n",
            "HTTP Error 403: Forbidden\n",
            "\n",
            "Downloading https://ossci-datasets.s3.amazonaws.com/mnist/train-labels-idx1-ubyte.gz\n",
            "Downloading https://ossci-datasets.s3.amazonaws.com/mnist/train-labels-idx1-ubyte.gz to ./data/MNIST/raw/train-labels-idx1-ubyte.gz\n"
          ]
        },
        {
          "output_type": "stream",
          "name": "stderr",
          "text": [
            "100%|██████████| 28881/28881 [00:00<00:00, 130085.16it/s]\n"
          ]
        },
        {
          "output_type": "stream",
          "name": "stdout",
          "text": [
            "Extracting ./data/MNIST/raw/train-labels-idx1-ubyte.gz to ./data/MNIST/raw\n",
            "\n",
            "Downloading http://yann.lecun.com/exdb/mnist/t10k-images-idx3-ubyte.gz\n",
            "Failed to download (trying next):\n",
            "HTTP Error 403: Forbidden\n",
            "\n",
            "Downloading https://ossci-datasets.s3.amazonaws.com/mnist/t10k-images-idx3-ubyte.gz\n",
            "Downloading https://ossci-datasets.s3.amazonaws.com/mnist/t10k-images-idx3-ubyte.gz to ./data/MNIST/raw/t10k-images-idx3-ubyte.gz\n"
          ]
        },
        {
          "output_type": "stream",
          "name": "stderr",
          "text": [
            "100%|██████████| 1648877/1648877 [00:01<00:00, 1263726.32it/s]\n"
          ]
        },
        {
          "output_type": "stream",
          "name": "stdout",
          "text": [
            "Extracting ./data/MNIST/raw/t10k-images-idx3-ubyte.gz to ./data/MNIST/raw\n",
            "\n",
            "Downloading http://yann.lecun.com/exdb/mnist/t10k-labels-idx1-ubyte.gz\n",
            "Failed to download (trying next):\n",
            "HTTP Error 403: Forbidden\n",
            "\n",
            "Downloading https://ossci-datasets.s3.amazonaws.com/mnist/t10k-labels-idx1-ubyte.gz\n",
            "Downloading https://ossci-datasets.s3.amazonaws.com/mnist/t10k-labels-idx1-ubyte.gz to ./data/MNIST/raw/t10k-labels-idx1-ubyte.gz\n"
          ]
        },
        {
          "output_type": "stream",
          "name": "stderr",
          "text": [
            "100%|██████████| 4542/4542 [00:00<00:00, 3871271.85it/s]"
          ]
        },
        {
          "output_type": "stream",
          "name": "stdout",
          "text": [
            "Extracting ./data/MNIST/raw/t10k-labels-idx1-ubyte.gz to ./data/MNIST/raw\n",
            "\n"
          ]
        },
        {
          "output_type": "stream",
          "name": "stderr",
          "text": [
            "\n"
          ]
        }
      ],
      "source": [
        "# Define transformations for the training set\n",
        "transform = transforms.Compose([\n",
        "    transforms.ToTensor(), # this will scaled from [0, 255] to [0, 1] when to tensor\n",
        "    transforms.Normalize((0.5,), (0.5,)) # normalizes the tensor image with a mean of 0.5 and a standard deviation of 0.5. This will transform the pixel values to be approximately in the range [-1, 1].\n",
        "])\n",
        "\n",
        "# Load the MNIST dataset\n",
        "trainset = torchvision.datasets.MNIST(root='./data', train=True, download=True, transform=transform)\n",
        "trainloader = torch.utils.data.DataLoader(trainset, batch_size=32, shuffle=True)\n",
        "\n",
        "testset = torchvision.datasets.MNIST(root='./data', train=False, download=True, transform=transform)\n",
        "testloader = torch.utils.data.DataLoader(testset, batch_size=32, shuffle=False)"
      ]
    },
    {
      "cell_type": "markdown",
      "source": [
        "# Model"
      ],
      "metadata": {
        "id": "8VPgT5rTRLxw"
      }
    },
    {
      "cell_type": "code",
      "source": [
        "class ClassicCNN(nn.Module):\n",
        "    def __init__(self):\n",
        "        super(ClassicCNN, self).__init__()\n",
        "        self.conv1 = nn.Conv2d(in_channels=1, out_channels=32, kernel_size=3, stride=1, padding=1) # 32 filters, filter size 3\n",
        "        self.conv2 = nn.Conv2d(in_channels=32, out_channels=64, kernel_size=3, stride=1, padding=1)\n",
        "        self.pool = nn.MaxPool2d(kernel_size=2, stride=2, padding=0)\n",
        "        self.fc1 = nn.Linear(64 * 7 * 7, 128)\n",
        "        self.fc2 = nn.Linear(128, 10)\n",
        "        self.dropout = nn.Dropout(p=0.25)\n",
        "\n",
        "    def forward(self, x):\n",
        "        x = self.pool(F.relu(self.conv1(x))) # convolutional: [batch_size, channels, height, width]\n",
        "        x = self.pool(F.relu(self.conv2(x)))\n",
        "        x = x.view(-1, 64 * 7 * 7) # Flatten the tensor for the fully connected layer\n",
        "        x = F.relu(self.fc1(x))\n",
        "        x = self.dropout(x)\n",
        "        x = self.fc2(x)\n",
        "        return x"
      ],
      "metadata": {
        "id": "r0rbJSWrRMKx"
      },
      "execution_count": 11,
      "outputs": []
    },
    {
      "cell_type": "code",
      "source": [
        "# Instantiate the model, define the loss function and the optimizer\n",
        "model = ClassicCNN().to(device)\n",
        "criterion = nn.CrossEntropyLoss()\n",
        "optimizer = optim.Adam(model.parameters(), lr=0.001)"
      ],
      "metadata": {
        "id": "MskbzeLDRN3x"
      },
      "execution_count": 12,
      "outputs": []
    },
    {
      "cell_type": "markdown",
      "source": [
        "# Training"
      ],
      "metadata": {
        "id": "M679gjoQSJSb"
      }
    },
    {
      "cell_type": "code",
      "source": [
        "num_epochs = 10\n",
        "\n",
        "for epoch in range(num_epochs):\n",
        "    running_loss = 0.0\n",
        "    for i, (inputs, labels) in enumerate(trainloader):\n",
        "        inputs, labels = inputs.to(device), labels.to(device)\n",
        "\n",
        "        # Zero the parameter gradients\n",
        "        optimizer.zero_grad()\n",
        "\n",
        "        # Forward pass\n",
        "        outputs = model(inputs)\n",
        "        loss = criterion(outputs, labels)\n",
        "\n",
        "        # Backward pass and optimization\n",
        "        loss.backward()\n",
        "        optimizer.step()\n",
        "\n",
        "        running_loss += loss.item()\n",
        "        if i % 100 == 99:    # Print every 100 mini-batches\n",
        "            print(f\"[{epoch + 1}, {i + 1}] loss: {running_loss / 100:.3f}\")\n",
        "            running_loss = 0.0\n",
        "\n",
        "print(\"Finished Training\")"
      ],
      "metadata": {
        "colab": {
          "base_uri": "https://localhost:8080/"
        },
        "id": "X3NAlUx9SJu-",
        "outputId": "a504c2fa-1110-40a5-b7a5-eb510077d0e1"
      },
      "execution_count": 13,
      "outputs": [
        {
          "output_type": "stream",
          "name": "stdout",
          "text": [
            "[1, 100] loss: 0.937\n",
            "[1, 200] loss: 0.249\n",
            "[1, 300] loss: 0.201\n",
            "[1, 400] loss: 0.141\n",
            "[1, 500] loss: 0.149\n",
            "[1, 600] loss: 0.127\n",
            "[1, 700] loss: 0.121\n",
            "[1, 800] loss: 0.109\n",
            "[1, 900] loss: 0.099\n",
            "[1, 1000] loss: 0.106\n",
            "[1, 1100] loss: 0.099\n",
            "[1, 1200] loss: 0.081\n",
            "[1, 1300] loss: 0.088\n",
            "[1, 1400] loss: 0.089\n",
            "[1, 1500] loss: 0.085\n",
            "[1, 1600] loss: 0.062\n",
            "[1, 1700] loss: 0.077\n",
            "[1, 1800] loss: 0.077\n",
            "[2, 100] loss: 0.059\n",
            "[2, 200] loss: 0.063\n",
            "[2, 300] loss: 0.070\n",
            "[2, 400] loss: 0.062\n",
            "[2, 500] loss: 0.061\n",
            "[2, 600] loss: 0.056\n",
            "[2, 700] loss: 0.061\n",
            "[2, 800] loss: 0.051\n",
            "[2, 900] loss: 0.065\n",
            "[2, 1000] loss: 0.052\n",
            "[2, 1100] loss: 0.060\n",
            "[2, 1200] loss: 0.054\n",
            "[2, 1300] loss: 0.061\n",
            "[2, 1400] loss: 0.046\n",
            "[2, 1500] loss: 0.069\n",
            "[2, 1600] loss: 0.054\n",
            "[2, 1700] loss: 0.050\n",
            "[2, 1800] loss: 0.051\n",
            "[3, 100] loss: 0.034\n",
            "[3, 200] loss: 0.032\n",
            "[3, 300] loss: 0.033\n",
            "[3, 400] loss: 0.051\n",
            "[3, 500] loss: 0.045\n",
            "[3, 600] loss: 0.047\n",
            "[3, 700] loss: 0.045\n",
            "[3, 800] loss: 0.042\n",
            "[3, 900] loss: 0.035\n",
            "[3, 1000] loss: 0.044\n",
            "[3, 1100] loss: 0.042\n",
            "[3, 1200] loss: 0.029\n",
            "[3, 1300] loss: 0.055\n",
            "[3, 1400] loss: 0.040\n",
            "[3, 1500] loss: 0.049\n",
            "[3, 1600] loss: 0.040\n",
            "[3, 1700] loss: 0.030\n",
            "[3, 1800] loss: 0.034\n",
            "[4, 100] loss: 0.028\n",
            "[4, 200] loss: 0.032\n",
            "[4, 300] loss: 0.027\n",
            "[4, 400] loss: 0.021\n",
            "[4, 500] loss: 0.030\n",
            "[4, 600] loss: 0.033\n",
            "[4, 700] loss: 0.034\n",
            "[4, 800] loss: 0.039\n",
            "[4, 900] loss: 0.029\n",
            "[4, 1000] loss: 0.038\n",
            "[4, 1100] loss: 0.039\n",
            "[4, 1200] loss: 0.037\n",
            "[4, 1300] loss: 0.027\n",
            "[4, 1400] loss: 0.025\n",
            "[4, 1500] loss: 0.022\n",
            "[4, 1600] loss: 0.042\n",
            "[4, 1700] loss: 0.036\n",
            "[4, 1800] loss: 0.041\n",
            "[5, 100] loss: 0.017\n",
            "[5, 200] loss: 0.015\n",
            "[5, 300] loss: 0.025\n",
            "[5, 400] loss: 0.016\n",
            "[5, 500] loss: 0.028\n",
            "[5, 600] loss: 0.022\n",
            "[5, 700] loss: 0.025\n",
            "[5, 800] loss: 0.032\n",
            "[5, 900] loss: 0.027\n",
            "[5, 1000] loss: 0.024\n",
            "[5, 1100] loss: 0.024\n",
            "[5, 1200] loss: 0.023\n",
            "[5, 1300] loss: 0.026\n",
            "[5, 1400] loss: 0.033\n",
            "[5, 1500] loss: 0.021\n",
            "[5, 1600] loss: 0.029\n",
            "[5, 1700] loss: 0.025\n",
            "[5, 1800] loss: 0.027\n",
            "[6, 100] loss: 0.020\n",
            "[6, 200] loss: 0.023\n",
            "[6, 300] loss: 0.016\n",
            "[6, 400] loss: 0.018\n",
            "[6, 500] loss: 0.017\n",
            "[6, 600] loss: 0.015\n",
            "[6, 700] loss: 0.014\n",
            "[6, 800] loss: 0.014\n",
            "[6, 900] loss: 0.024\n",
            "[6, 1000] loss: 0.022\n",
            "[6, 1100] loss: 0.020\n",
            "[6, 1200] loss: 0.018\n",
            "[6, 1300] loss: 0.024\n",
            "[6, 1400] loss: 0.023\n",
            "[6, 1500] loss: 0.018\n",
            "[6, 1600] loss: 0.016\n",
            "[6, 1700] loss: 0.023\n",
            "[6, 1800] loss: 0.025\n",
            "[7, 100] loss: 0.012\n",
            "[7, 200] loss: 0.022\n",
            "[7, 300] loss: 0.009\n",
            "[7, 400] loss: 0.018\n",
            "[7, 500] loss: 0.018\n",
            "[7, 600] loss: 0.021\n",
            "[7, 700] loss: 0.019\n",
            "[7, 800] loss: 0.018\n",
            "[7, 900] loss: 0.019\n",
            "[7, 1000] loss: 0.011\n",
            "[7, 1100] loss: 0.022\n",
            "[7, 1200] loss: 0.017\n",
            "[7, 1300] loss: 0.014\n",
            "[7, 1400] loss: 0.027\n",
            "[7, 1500] loss: 0.024\n",
            "[7, 1600] loss: 0.021\n",
            "[7, 1700] loss: 0.025\n",
            "[7, 1800] loss: 0.023\n",
            "[8, 100] loss: 0.014\n",
            "[8, 200] loss: 0.023\n",
            "[8, 300] loss: 0.014\n",
            "[8, 400] loss: 0.011\n",
            "[8, 500] loss: 0.011\n",
            "[8, 600] loss: 0.013\n",
            "[8, 700] loss: 0.017\n",
            "[8, 800] loss: 0.020\n",
            "[8, 900] loss: 0.011\n",
            "[8, 1000] loss: 0.010\n",
            "[8, 1100] loss: 0.013\n",
            "[8, 1200] loss: 0.020\n",
            "[8, 1300] loss: 0.011\n",
            "[8, 1400] loss: 0.024\n",
            "[8, 1500] loss: 0.024\n",
            "[8, 1600] loss: 0.017\n",
            "[8, 1700] loss: 0.012\n",
            "[8, 1800] loss: 0.018\n",
            "[9, 100] loss: 0.017\n",
            "[9, 200] loss: 0.019\n",
            "[9, 300] loss: 0.012\n",
            "[9, 400] loss: 0.010\n",
            "[9, 500] loss: 0.008\n",
            "[9, 600] loss: 0.011\n",
            "[9, 700] loss: 0.012\n",
            "[9, 800] loss: 0.015\n",
            "[9, 900] loss: 0.013\n",
            "[9, 1000] loss: 0.008\n",
            "[9, 1100] loss: 0.012\n",
            "[9, 1200] loss: 0.011\n",
            "[9, 1300] loss: 0.018\n",
            "[9, 1400] loss: 0.019\n",
            "[9, 1500] loss: 0.013\n",
            "[9, 1600] loss: 0.013\n",
            "[9, 1700] loss: 0.018\n",
            "[9, 1800] loss: 0.012\n",
            "[10, 100] loss: 0.005\n",
            "[10, 200] loss: 0.010\n",
            "[10, 300] loss: 0.016\n",
            "[10, 400] loss: 0.012\n",
            "[10, 500] loss: 0.015\n",
            "[10, 600] loss: 0.007\n",
            "[10, 700] loss: 0.014\n",
            "[10, 800] loss: 0.006\n",
            "[10, 900] loss: 0.022\n",
            "[10, 1000] loss: 0.013\n",
            "[10, 1100] loss: 0.012\n",
            "[10, 1200] loss: 0.014\n",
            "[10, 1300] loss: 0.014\n",
            "[10, 1400] loss: 0.011\n",
            "[10, 1500] loss: 0.010\n",
            "[10, 1600] loss: 0.012\n",
            "[10, 1700] loss: 0.020\n",
            "[10, 1800] loss: 0.022\n",
            "Finished Training\n"
          ]
        }
      ]
    },
    {
      "cell_type": "markdown",
      "source": [
        "# Evaluation"
      ],
      "metadata": {
        "id": "BPdCHRg-SlRh"
      }
    },
    {
      "cell_type": "code",
      "source": [
        "correct = 0\n",
        "total = 0\n",
        "with torch.no_grad():\n",
        "    for inputs, labels in testloader:\n",
        "        inputs, labels = inputs.to(device), labels.to(device)\n",
        "        outputs = model(inputs)\n",
        "        _, predicted = torch.max(outputs.data, 1)\n",
        "        total += labels.size(0)\n",
        "        correct += (predicted == labels).sum().item()\n",
        "\n",
        "print(f\"Accuracy of the network on the 10000 test images: {100 * correct / total}%\")"
      ],
      "metadata": {
        "colab": {
          "base_uri": "https://localhost:8080/"
        },
        "id": "k1hsRpyTSmCU",
        "outputId": "0987fdcc-66e6-4c4e-be38-10e0210b963f"
      },
      "execution_count": 14,
      "outputs": [
        {
          "output_type": "stream",
          "name": "stdout",
          "text": [
            "Accuracy of the network on the 10000 test images: 98.88%\n"
          ]
        }
      ]
    }
  ]
}